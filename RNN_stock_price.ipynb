{
  "nbformat": 4,
  "nbformat_minor": 0,
  "metadata": {
    "colab": {
      "provenance": [],
      "mount_file_id": "1AamAHN0Y-X8SvLAEFATFSCR7CF0tuwIv",
      "authorship_tag": "ABX9TyMy2l1tmrL+y1z1UFpFQrYX",
      "include_colab_link": true
    },
    "kernelspec": {
      "name": "python3",
      "display_name": "Python 3"
    },
    "language_info": {
      "name": "python"
    }
  },
  "cells": [
    {
      "cell_type": "markdown",
      "metadata": {
        "id": "view-in-github",
        "colab_type": "text"
      },
      "source": [
        "<a href=\"https://colab.research.google.com/github/saisuryakeshetty/RNN_stock_price/blob/main/RNN_stock_price.ipynb\" target=\"_parent\"><img src=\"https://colab.research.google.com/assets/colab-badge.svg\" alt=\"Open In Colab\"/></a>"
      ]
    },
    {
      "cell_type": "markdown",
      "source": [
        "## Part 1 - Data Preprocessing"
      ],
      "metadata": {
        "id": "VhV8cinA-XSX"
      }
    },
    {
      "cell_type": "markdown",
      "source": [
        "### Importing libraries"
      ],
      "metadata": {
        "id": "cnDzWO2i-pet"
      }
    },
    {
      "cell_type": "code",
      "source": [
        "import numpy as np\n",
        "import matplotlib.pyplot as plt\n",
        "import pandas as pd\n",
        "from sklearn.preprocessing import MinMaxScaler\n",
        "from keras.models import Sequential\n",
        "from keras.layers import Dense\n",
        "from keras.layers import LSTM\n",
        "from keras.layers import Dropout\n",
        "from keras.layers import BatchNormalization"
      ],
      "metadata": {
        "id": "t7L6shNa-YY-"
      },
      "execution_count": null,
      "outputs": []
    },
    {
      "cell_type": "markdown",
      "source": [
        "### Importing the training set"
      ],
      "metadata": {
        "id": "typlrlVhAfUA"
      }
    },
    {
      "cell_type": "code",
      "source": [
        "# Load stock prices from 2012 to 2016\n",
        "dataset_train = pd.read_csv('/content/drive/MyDrive/Google_stock_price/Google_Stock_Price_Train.csv')"
      ],
      "metadata": {
        "id": "7wdbT9NF_ZFF"
      },
      "execution_count": null,
      "outputs": []
    },
    {
      "cell_type": "code",
      "source": [
        "# display the dataset(first 5 rows)\n",
        "dataset_train.head()"
      ],
      "metadata": {
        "colab": {
          "base_uri": "https://localhost:8080/",
          "height": 206
        },
        "id": "0VOPq6nfA5kp",
        "outputId": "9d872ed1-2442-4764-aacd-ee93cbadac2e"
      },
      "execution_count": null,
      "outputs": [
        {
          "output_type": "execute_result",
          "data": {
            "text/plain": [
              "       Date    Open    High     Low   Close      Volume\n",
              "0  1/3/2012  325.25  332.83  324.97  663.59   7,380,500\n",
              "1  1/4/2012  331.27  333.87  329.08  666.45   5,749,400\n",
              "2  1/5/2012  329.83  330.75  326.89  657.21   6,590,300\n",
              "3  1/6/2012  328.34  328.77  323.68  648.24   5,405,900\n",
              "4  1/9/2012  322.04  322.29  309.46  620.76  11,688,800"
            ],
            "text/html": [
              "\n",
              "  <div id=\"df-aa282a98-db82-415e-a56a-0c7b0a3920fd\" class=\"colab-df-container\">\n",
              "    <div>\n",
              "<style scoped>\n",
              "    .dataframe tbody tr th:only-of-type {\n",
              "        vertical-align: middle;\n",
              "    }\n",
              "\n",
              "    .dataframe tbody tr th {\n",
              "        vertical-align: top;\n",
              "    }\n",
              "\n",
              "    .dataframe thead th {\n",
              "        text-align: right;\n",
              "    }\n",
              "</style>\n",
              "<table border=\"1\" class=\"dataframe\">\n",
              "  <thead>\n",
              "    <tr style=\"text-align: right;\">\n",
              "      <th></th>\n",
              "      <th>Date</th>\n",
              "      <th>Open</th>\n",
              "      <th>High</th>\n",
              "      <th>Low</th>\n",
              "      <th>Close</th>\n",
              "      <th>Volume</th>\n",
              "    </tr>\n",
              "  </thead>\n",
              "  <tbody>\n",
              "    <tr>\n",
              "      <th>0</th>\n",
              "      <td>1/3/2012</td>\n",
              "      <td>325.25</td>\n",
              "      <td>332.83</td>\n",
              "      <td>324.97</td>\n",
              "      <td>663.59</td>\n",
              "      <td>7,380,500</td>\n",
              "    </tr>\n",
              "    <tr>\n",
              "      <th>1</th>\n",
              "      <td>1/4/2012</td>\n",
              "      <td>331.27</td>\n",
              "      <td>333.87</td>\n",
              "      <td>329.08</td>\n",
              "      <td>666.45</td>\n",
              "      <td>5,749,400</td>\n",
              "    </tr>\n",
              "    <tr>\n",
              "      <th>2</th>\n",
              "      <td>1/5/2012</td>\n",
              "      <td>329.83</td>\n",
              "      <td>330.75</td>\n",
              "      <td>326.89</td>\n",
              "      <td>657.21</td>\n",
              "      <td>6,590,300</td>\n",
              "    </tr>\n",
              "    <tr>\n",
              "      <th>3</th>\n",
              "      <td>1/6/2012</td>\n",
              "      <td>328.34</td>\n",
              "      <td>328.77</td>\n",
              "      <td>323.68</td>\n",
              "      <td>648.24</td>\n",
              "      <td>5,405,900</td>\n",
              "    </tr>\n",
              "    <tr>\n",
              "      <th>4</th>\n",
              "      <td>1/9/2012</td>\n",
              "      <td>322.04</td>\n",
              "      <td>322.29</td>\n",
              "      <td>309.46</td>\n",
              "      <td>620.76</td>\n",
              "      <td>11,688,800</td>\n",
              "    </tr>\n",
              "  </tbody>\n",
              "</table>\n",
              "</div>\n",
              "    <div class=\"colab-df-buttons\">\n",
              "\n",
              "  <div class=\"colab-df-container\">\n",
              "    <button class=\"colab-df-convert\" onclick=\"convertToInteractive('df-aa282a98-db82-415e-a56a-0c7b0a3920fd')\"\n",
              "            title=\"Convert this dataframe to an interactive table.\"\n",
              "            style=\"display:none;\">\n",
              "\n",
              "  <svg xmlns=\"http://www.w3.org/2000/svg\" height=\"24px\" viewBox=\"0 -960 960 960\">\n",
              "    <path d=\"M120-120v-720h720v720H120Zm60-500h600v-160H180v160Zm220 220h160v-160H400v160Zm0 220h160v-160H400v160ZM180-400h160v-160H180v160Zm440 0h160v-160H620v160ZM180-180h160v-160H180v160Zm440 0h160v-160H620v160Z\"/>\n",
              "  </svg>\n",
              "    </button>\n",
              "\n",
              "  <style>\n",
              "    .colab-df-container {\n",
              "      display:flex;\n",
              "      gap: 12px;\n",
              "    }\n",
              "\n",
              "    .colab-df-convert {\n",
              "      background-color: #E8F0FE;\n",
              "      border: none;\n",
              "      border-radius: 50%;\n",
              "      cursor: pointer;\n",
              "      display: none;\n",
              "      fill: #1967D2;\n",
              "      height: 32px;\n",
              "      padding: 0 0 0 0;\n",
              "      width: 32px;\n",
              "    }\n",
              "\n",
              "    .colab-df-convert:hover {\n",
              "      background-color: #E2EBFA;\n",
              "      box-shadow: 0px 1px 2px rgba(60, 64, 67, 0.3), 0px 1px 3px 1px rgba(60, 64, 67, 0.15);\n",
              "      fill: #174EA6;\n",
              "    }\n",
              "\n",
              "    .colab-df-buttons div {\n",
              "      margin-bottom: 4px;\n",
              "    }\n",
              "\n",
              "    [theme=dark] .colab-df-convert {\n",
              "      background-color: #3B4455;\n",
              "      fill: #D2E3FC;\n",
              "    }\n",
              "\n",
              "    [theme=dark] .colab-df-convert:hover {\n",
              "      background-color: #434B5C;\n",
              "      box-shadow: 0px 1px 3px 1px rgba(0, 0, 0, 0.15);\n",
              "      filter: drop-shadow(0px 1px 2px rgba(0, 0, 0, 0.3));\n",
              "      fill: #FFFFFF;\n",
              "    }\n",
              "  </style>\n",
              "\n",
              "    <script>\n",
              "      const buttonEl =\n",
              "        document.querySelector('#df-aa282a98-db82-415e-a56a-0c7b0a3920fd button.colab-df-convert');\n",
              "      buttonEl.style.display =\n",
              "        google.colab.kernel.accessAllowed ? 'block' : 'none';\n",
              "\n",
              "      async function convertToInteractive(key) {\n",
              "        const element = document.querySelector('#df-aa282a98-db82-415e-a56a-0c7b0a3920fd');\n",
              "        const dataTable =\n",
              "          await google.colab.kernel.invokeFunction('convertToInteractive',\n",
              "                                                    [key], {});\n",
              "        if (!dataTable) return;\n",
              "\n",
              "        const docLinkHtml = 'Like what you see? Visit the ' +\n",
              "          '<a target=\"_blank\" href=https://colab.research.google.com/notebooks/data_table.ipynb>data table notebook</a>'\n",
              "          + ' to learn more about interactive tables.';\n",
              "        element.innerHTML = '';\n",
              "        dataTable['output_type'] = 'display_data';\n",
              "        await google.colab.output.renderOutput(dataTable, element);\n",
              "        const docLink = document.createElement('div');\n",
              "        docLink.innerHTML = docLinkHtml;\n",
              "        element.appendChild(docLink);\n",
              "      }\n",
              "    </script>\n",
              "  </div>\n",
              "\n",
              "\n",
              "<div id=\"df-27a72a12-79d1-4078-966e-0caa54eae227\">\n",
              "  <button class=\"colab-df-quickchart\" onclick=\"quickchart('df-27a72a12-79d1-4078-966e-0caa54eae227')\"\n",
              "            title=\"Suggest charts\"\n",
              "            style=\"display:none;\">\n",
              "\n",
              "<svg xmlns=\"http://www.w3.org/2000/svg\" height=\"24px\"viewBox=\"0 0 24 24\"\n",
              "     width=\"24px\">\n",
              "    <g>\n",
              "        <path d=\"M19 3H5c-1.1 0-2 .9-2 2v14c0 1.1.9 2 2 2h14c1.1 0 2-.9 2-2V5c0-1.1-.9-2-2-2zM9 17H7v-7h2v7zm4 0h-2V7h2v10zm4 0h-2v-4h2v4z\"/>\n",
              "    </g>\n",
              "</svg>\n",
              "  </button>\n",
              "\n",
              "<style>\n",
              "  .colab-df-quickchart {\n",
              "      --bg-color: #E8F0FE;\n",
              "      --fill-color: #1967D2;\n",
              "      --hover-bg-color: #E2EBFA;\n",
              "      --hover-fill-color: #174EA6;\n",
              "      --disabled-fill-color: #AAA;\n",
              "      --disabled-bg-color: #DDD;\n",
              "  }\n",
              "\n",
              "  [theme=dark] .colab-df-quickchart {\n",
              "      --bg-color: #3B4455;\n",
              "      --fill-color: #D2E3FC;\n",
              "      --hover-bg-color: #434B5C;\n",
              "      --hover-fill-color: #FFFFFF;\n",
              "      --disabled-bg-color: #3B4455;\n",
              "      --disabled-fill-color: #666;\n",
              "  }\n",
              "\n",
              "  .colab-df-quickchart {\n",
              "    background-color: var(--bg-color);\n",
              "    border: none;\n",
              "    border-radius: 50%;\n",
              "    cursor: pointer;\n",
              "    display: none;\n",
              "    fill: var(--fill-color);\n",
              "    height: 32px;\n",
              "    padding: 0;\n",
              "    width: 32px;\n",
              "  }\n",
              "\n",
              "  .colab-df-quickchart:hover {\n",
              "    background-color: var(--hover-bg-color);\n",
              "    box-shadow: 0 1px 2px rgba(60, 64, 67, 0.3), 0 1px 3px 1px rgba(60, 64, 67, 0.15);\n",
              "    fill: var(--button-hover-fill-color);\n",
              "  }\n",
              "\n",
              "  .colab-df-quickchart-complete:disabled,\n",
              "  .colab-df-quickchart-complete:disabled:hover {\n",
              "    background-color: var(--disabled-bg-color);\n",
              "    fill: var(--disabled-fill-color);\n",
              "    box-shadow: none;\n",
              "  }\n",
              "\n",
              "  .colab-df-spinner {\n",
              "    border: 2px solid var(--fill-color);\n",
              "    border-color: transparent;\n",
              "    border-bottom-color: var(--fill-color);\n",
              "    animation:\n",
              "      spin 1s steps(1) infinite;\n",
              "  }\n",
              "\n",
              "  @keyframes spin {\n",
              "    0% {\n",
              "      border-color: transparent;\n",
              "      border-bottom-color: var(--fill-color);\n",
              "      border-left-color: var(--fill-color);\n",
              "    }\n",
              "    20% {\n",
              "      border-color: transparent;\n",
              "      border-left-color: var(--fill-color);\n",
              "      border-top-color: var(--fill-color);\n",
              "    }\n",
              "    30% {\n",
              "      border-color: transparent;\n",
              "      border-left-color: var(--fill-color);\n",
              "      border-top-color: var(--fill-color);\n",
              "      border-right-color: var(--fill-color);\n",
              "    }\n",
              "    40% {\n",
              "      border-color: transparent;\n",
              "      border-right-color: var(--fill-color);\n",
              "      border-top-color: var(--fill-color);\n",
              "    }\n",
              "    60% {\n",
              "      border-color: transparent;\n",
              "      border-right-color: var(--fill-color);\n",
              "    }\n",
              "    80% {\n",
              "      border-color: transparent;\n",
              "      border-right-color: var(--fill-color);\n",
              "      border-bottom-color: var(--fill-color);\n",
              "    }\n",
              "    90% {\n",
              "      border-color: transparent;\n",
              "      border-bottom-color: var(--fill-color);\n",
              "    }\n",
              "  }\n",
              "</style>\n",
              "\n",
              "  <script>\n",
              "    async function quickchart(key) {\n",
              "      const quickchartButtonEl =\n",
              "        document.querySelector('#' + key + ' button');\n",
              "      quickchartButtonEl.disabled = true;  // To prevent multiple clicks.\n",
              "      quickchartButtonEl.classList.add('colab-df-spinner');\n",
              "      try {\n",
              "        const charts = await google.colab.kernel.invokeFunction(\n",
              "            'suggestCharts', [key], {});\n",
              "      } catch (error) {\n",
              "        console.error('Error during call to suggestCharts:', error);\n",
              "      }\n",
              "      quickchartButtonEl.classList.remove('colab-df-spinner');\n",
              "      quickchartButtonEl.classList.add('colab-df-quickchart-complete');\n",
              "    }\n",
              "    (() => {\n",
              "      let quickchartButtonEl =\n",
              "        document.querySelector('#df-27a72a12-79d1-4078-966e-0caa54eae227 button');\n",
              "      quickchartButtonEl.style.display =\n",
              "        google.colab.kernel.accessAllowed ? 'block' : 'none';\n",
              "    })();\n",
              "  </script>\n",
              "</div>\n",
              "    </div>\n",
              "  </div>\n"
            ]
          },
          "metadata": {},
          "execution_count": 3
        }
      ]
    },
    {
      "cell_type": "code",
      "source": [
        "# get shape of the dataset\n",
        "dataset_train.shape"
      ],
      "metadata": {
        "colab": {
          "base_uri": "https://localhost:8080/"
        },
        "id": "VhKGSQShy87s",
        "outputId": "153e3043-4c74-4407-f06f-56263259480b"
      },
      "execution_count": null,
      "outputs": [
        {
          "output_type": "execute_result",
          "data": {
            "text/plain": [
              "(1258, 6)"
            ]
          },
          "metadata": {},
          "execution_count": 4
        }
      ]
    },
    {
      "cell_type": "code",
      "source": [
        "# Get an array of opening prices\n",
        "training_set = dataset_train.iloc[:, 1:2].values\n",
        "training_set"
      ],
      "metadata": {
        "colab": {
          "base_uri": "https://localhost:8080/"
        },
        "id": "ZUfy97geDGST",
        "outputId": "07bdbbcb-c21c-4362-a8ea-2a8d7b27f97b"
      },
      "execution_count": null,
      "outputs": [
        {
          "output_type": "execute_result",
          "data": {
            "text/plain": [
              "array([[325.25],\n",
              "       [331.27],\n",
              "       [329.83],\n",
              "       ...,\n",
              "       [793.7 ],\n",
              "       [783.33],\n",
              "       [782.75]])"
            ]
          },
          "metadata": {},
          "execution_count": 5
        }
      ]
    },
    {
      "cell_type": "markdown",
      "source": [
        "### Feature Scaling"
      ],
      "metadata": {
        "id": "tjqQTrnhGux-"
      }
    },
    {
      "cell_type": "markdown",
      "source": [
        "Feature scaling helps speed up the process of convergence of gradient descent."
      ],
      "metadata": {
        "id": "CJ4U8NIVJytD"
      }
    },
    {
      "cell_type": "code",
      "source": [
        "# Scale the training_set such that values are in the range of [0,1]\n",
        "sc = MinMaxScaler()\n",
        "training_set = sc.fit_transform(training_set)"
      ],
      "metadata": {
        "id": "NFi5VagJF5XA"
      },
      "execution_count": null,
      "outputs": []
    },
    {
      "cell_type": "markdown",
      "source": [
        "### Creating a data structure with 60 timesteps and 1 output"
      ],
      "metadata": {
        "id": "e-MMRrXlypwG"
      }
    },
    {
      "cell_type": "markdown",
      "source": [
        "Timesteps refers to how much behind data do you want to look into to make the prediction. Here we will predict next day stock price based on previous 60 days stock prices."
      ],
      "metadata": {
        "id": "3ha43FNcKi7t"
      }
    },
    {
      "cell_type": "code",
      "source": [
        "# intilalize the X_train,y_train with empty lists\n",
        "X_train = []\n",
        "y_train = []\n",
        "# start from 60th index position(61st stock price) on training_set and move 1 index repetitively\n",
        "for i in range(60,1258):\n",
        "  # append a list of previous 60 stock prices to X_train\n",
        "  X_train.append(training_set[i-60:i])\n",
        "  # append a list containing current stock price to y_train\n",
        "  y_train.append(training_set[i,0])\n",
        "# convert lists to arrays\n",
        "X_train, y_train = np.array(X_train), np.array(y_train)"
      ],
      "metadata": {
        "id": "edFw-9f9vrAA"
      },
      "execution_count": null,
      "outputs": []
    },
    {
      "cell_type": "code",
      "source": [
        "# shape of X_train,y_train\n",
        "X_train.shape,y_train.shape"
      ],
      "metadata": {
        "colab": {
          "base_uri": "https://localhost:8080/"
        },
        "id": "K0o-o8BU0r5F",
        "outputId": "8a8bedc8-ce6a-430b-9830-ec7b5cb9017c"
      },
      "execution_count": null,
      "outputs": [
        {
          "output_type": "execute_result",
          "data": {
            "text/plain": [
              "((1198, 60, 1), (1198,))"
            ]
          },
          "metadata": {},
          "execution_count": 8
        }
      ]
    },
    {
      "cell_type": "markdown",
      "source": [
        "## Building and Training the RNN"
      ],
      "metadata": {
        "id": "fRumf7IDKYAB"
      }
    },
    {
      "cell_type": "markdown",
      "source": [
        "In building RNN model, we will use LSTM layers. These LSTM layers will help RNN model in capturing long term dependencies in addition to short term dependencies."
      ],
      "metadata": {
        "id": "VwPu5_oOFKBs"
      }
    },
    {
      "cell_type": "markdown",
      "source": [
        "### Initialising the RNN"
      ],
      "metadata": {
        "id": "N5-wKarFMWyD"
      }
    },
    {
      "cell_type": "markdown",
      "source": [
        "We will use 4 LSTM layers with 50 units each followed by Dropout layer. Dropout layer helps reducing overfitting."
      ],
      "metadata": {
        "id": "iQNIfKuac8Dt"
      }
    },
    {
      "cell_type": "code",
      "source": [
        "model = Sequential()"
      ],
      "metadata": {
        "id": "A-srhv9oLZJL"
      },
      "execution_count": null,
      "outputs": []
    },
    {
      "cell_type": "markdown",
      "source": [
        "### Adding the first LSTM layer and Dropout layer"
      ],
      "metadata": {
        "id": "21THCBi2MusI"
      }
    },
    {
      "cell_type": "markdown",
      "source": [
        "return_sequences = True will output all the hidden states in each timestep. We will set return_sequences = True for first 3 LSTM layers"
      ],
      "metadata": {
        "id": "82Q4w0yJcBIW"
      }
    },
    {
      "cell_type": "code",
      "source": [
        "model.add(LSTM(50,input_shape=(60,1),return_sequences=True))\n",
        "model.add(Dropout(0.2))"
      ],
      "metadata": {
        "id": "1nvsGN5mMAbe"
      },
      "execution_count": null,
      "outputs": []
    },
    {
      "cell_type": "markdown",
      "source": [
        "### Adding a second LSTM layer and and Dropout layer"
      ],
      "metadata": {
        "id": "-zqvV0_WOCJJ"
      }
    },
    {
      "cell_type": "code",
      "source": [
        "model.add(LSTM(50, return_sequences = True))\n",
        "model.add(Dropout(0.2))"
      ],
      "metadata": {
        "id": "7gbG8XnFN-FT"
      },
      "execution_count": null,
      "outputs": []
    },
    {
      "cell_type": "markdown",
      "source": [
        "### Adding a third LSTM layer and and Dropout layer"
      ],
      "metadata": {
        "id": "6Kb9au1sO5-X"
      }
    },
    {
      "cell_type": "code",
      "source": [
        "model.add(LSTM(50, return_sequences = True))\n",
        "model.add(Dropout(0.2))"
      ],
      "metadata": {
        "id": "LA3C0FJeO4BH"
      },
      "execution_count": null,
      "outputs": []
    },
    {
      "cell_type": "markdown",
      "source": [
        "### Adding a fourth LSTM layer and and Dropout layer"
      ],
      "metadata": {
        "id": "lXaytKLdPXKX"
      }
    },
    {
      "cell_type": "code",
      "source": [
        "model.add(LSTM(50))\n",
        "model.add(Dropout(0.2))"
      ],
      "metadata": {
        "id": "B8cHWwO4PKez"
      },
      "execution_count": null,
      "outputs": []
    },
    {
      "cell_type": "markdown",
      "source": [
        "### Adding the output layer"
      ],
      "metadata": {
        "id": "92aFfOL-Po71"
      }
    },
    {
      "cell_type": "code",
      "source": [
        "model.add(Dense(1))"
      ],
      "metadata": {
        "id": "0WHZ1U-TPku1"
      },
      "execution_count": null,
      "outputs": []
    },
    {
      "cell_type": "markdown",
      "source": [
        "### Compiling the RNN"
      ],
      "metadata": {
        "id": "0N0-y59_REMd"
      }
    },
    {
      "cell_type": "markdown",
      "source": [
        "We will use 'adam' optimizer. Our target variable, next day stock price is continuous variable so we will use 'mean_squared_error' loss function."
      ],
      "metadata": {
        "id": "Us6FVuPIUpiV"
      }
    },
    {
      "cell_type": "code",
      "source": [
        "model.compile(optimizer='adam',loss='mean_squared_error')"
      ],
      "metadata": {
        "id": "uY0SXWWCQ6Xt"
      },
      "execution_count": null,
      "outputs": []
    },
    {
      "cell_type": "markdown",
      "source": [
        "### Fitting the RNN to the Training set"
      ],
      "metadata": {
        "id": "izt38CCfSXI_"
      }
    },
    {
      "cell_type": "code",
      "source": [
        "model.fit(X_train,y_train, epochs = 100, batch_size = 32)"
      ],
      "metadata": {
        "colab": {
          "base_uri": "https://localhost:8080/"
        },
        "id": "10_8mcM3SP6M",
        "outputId": "ffb1169f-2813-43a9-dac1-4ae4917e6616"
      },
      "execution_count": null,
      "outputs": [
        {
          "output_type": "stream",
          "name": "stdout",
          "text": [
            "Epoch 1/100\n",
            "38/38 [==============================] - 10s 144ms/step - loss: 0.0443\n",
            "Epoch 2/100\n",
            "38/38 [==============================] - 5s 126ms/step - loss: 0.0074\n",
            "Epoch 3/100\n",
            "38/38 [==============================] - 5s 129ms/step - loss: 0.0058\n",
            "Epoch 4/100\n",
            "38/38 [==============================] - 6s 151ms/step - loss: 0.0060\n",
            "Epoch 5/100\n",
            "38/38 [==============================] - 3s 71ms/step - loss: 0.0060\n",
            "Epoch 6/100\n",
            "38/38 [==============================] - 3s 71ms/step - loss: 0.0053\n",
            "Epoch 7/100\n",
            "38/38 [==============================] - 3s 71ms/step - loss: 0.0053\n",
            "Epoch 8/100\n",
            "38/38 [==============================] - 3s 79ms/step - loss: 0.0052\n",
            "Epoch 9/100\n",
            "38/38 [==============================] - 4s 94ms/step - loss: 0.0047\n",
            "Epoch 10/100\n",
            "38/38 [==============================] - 3s 70ms/step - loss: 0.0048\n",
            "Epoch 11/100\n",
            "38/38 [==============================] - 3s 70ms/step - loss: 0.0044\n",
            "Epoch 12/100\n",
            "38/38 [==============================] - 3s 71ms/step - loss: 0.0043\n",
            "Epoch 13/100\n",
            "38/38 [==============================] - 3s 85ms/step - loss: 0.0038\n",
            "Epoch 14/100\n",
            "38/38 [==============================] - 3s 87ms/step - loss: 0.0042\n",
            "Epoch 15/100\n",
            "38/38 [==============================] - 3s 71ms/step - loss: 0.0039\n",
            "Epoch 16/100\n",
            "38/38 [==============================] - 3s 70ms/step - loss: 0.0040\n",
            "Epoch 17/100\n",
            "38/38 [==============================] - 3s 70ms/step - loss: 0.0041\n",
            "Epoch 18/100\n",
            "38/38 [==============================] - 3s 91ms/step - loss: 0.0037\n",
            "Epoch 19/100\n",
            "38/38 [==============================] - 3s 81ms/step - loss: 0.0038\n",
            "Epoch 20/100\n",
            "38/38 [==============================] - 3s 70ms/step - loss: 0.0033\n",
            "Epoch 21/100\n",
            "38/38 [==============================] - 3s 71ms/step - loss: 0.0034\n",
            "Epoch 22/100\n",
            "38/38 [==============================] - 3s 70ms/step - loss: 0.0033\n",
            "Epoch 23/100\n",
            "38/38 [==============================] - 4s 105ms/step - loss: 0.0033\n",
            "Epoch 24/100\n",
            "38/38 [==============================] - 3s 78ms/step - loss: 0.0033\n",
            "Epoch 25/100\n",
            "38/38 [==============================] - 3s 72ms/step - loss: 0.0032\n",
            "Epoch 26/100\n",
            "38/38 [==============================] - 3s 71ms/step - loss: 0.0031\n",
            "Epoch 27/100\n",
            "38/38 [==============================] - 3s 79ms/step - loss: 0.0031\n",
            "Epoch 28/100\n",
            "38/38 [==============================] - 4s 97ms/step - loss: 0.0028\n",
            "Epoch 29/100\n",
            "38/38 [==============================] - 3s 70ms/step - loss: 0.0029\n",
            "Epoch 30/100\n",
            "38/38 [==============================] - 3s 70ms/step - loss: 0.0032\n",
            "Epoch 31/100\n",
            "38/38 [==============================] - 3s 71ms/step - loss: 0.0028\n",
            "Epoch 32/100\n",
            "38/38 [==============================] - 3s 84ms/step - loss: 0.0035\n",
            "Epoch 33/100\n",
            "38/38 [==============================] - 3s 91ms/step - loss: 0.0032\n",
            "Epoch 34/100\n",
            "38/38 [==============================] - 3s 71ms/step - loss: 0.0027\n",
            "Epoch 35/100\n",
            "38/38 [==============================] - 3s 70ms/step - loss: 0.0030\n",
            "Epoch 36/100\n",
            "38/38 [==============================] - 3s 70ms/step - loss: 0.0029\n",
            "Epoch 37/100\n",
            "38/38 [==============================] - 3s 89ms/step - loss: 0.0029\n",
            "Epoch 38/100\n",
            "38/38 [==============================] - 3s 85ms/step - loss: 0.0029\n",
            "Epoch 39/100\n",
            "38/38 [==============================] - 3s 71ms/step - loss: 0.0026\n",
            "Epoch 40/100\n",
            "38/38 [==============================] - 3s 84ms/step - loss: 0.0026\n",
            "Epoch 41/100\n",
            "38/38 [==============================] - 3s 73ms/step - loss: 0.0028\n",
            "Epoch 42/100\n",
            "38/38 [==============================] - 4s 103ms/step - loss: 0.0026\n",
            "Epoch 43/100\n",
            "38/38 [==============================] - 3s 72ms/step - loss: 0.0024\n",
            "Epoch 44/100\n",
            "38/38 [==============================] - 3s 72ms/step - loss: 0.0027\n",
            "Epoch 45/100\n",
            "38/38 [==============================] - 3s 73ms/step - loss: 0.0025\n",
            "Epoch 46/100\n",
            "38/38 [==============================] - 3s 83ms/step - loss: 0.0024\n",
            "Epoch 47/100\n",
            "38/38 [==============================] - 4s 92ms/step - loss: 0.0027\n",
            "Epoch 48/100\n",
            "38/38 [==============================] - 3s 72ms/step - loss: 0.0026\n",
            "Epoch 49/100\n",
            "38/38 [==============================] - 3s 71ms/step - loss: 0.0023\n",
            "Epoch 50/100\n",
            "38/38 [==============================] - 3s 70ms/step - loss: 0.0026\n",
            "Epoch 51/100\n",
            "38/38 [==============================] - 3s 89ms/step - loss: 0.0022\n",
            "Epoch 52/100\n",
            "38/38 [==============================] - 3s 86ms/step - loss: 0.0023\n",
            "Epoch 53/100\n",
            "38/38 [==============================] - 3s 69ms/step - loss: 0.0024\n",
            "Epoch 54/100\n",
            "38/38 [==============================] - 3s 70ms/step - loss: 0.0021\n",
            "Epoch 55/100\n",
            "38/38 [==============================] - 3s 71ms/step - loss: 0.0021\n",
            "Epoch 56/100\n",
            "38/38 [==============================] - 3s 92ms/step - loss: 0.0022\n",
            "Epoch 57/100\n",
            "38/38 [==============================] - 3s 80ms/step - loss: 0.0021\n",
            "Epoch 58/100\n",
            "38/38 [==============================] - 3s 71ms/step - loss: 0.0022\n",
            "Epoch 59/100\n",
            "38/38 [==============================] - 3s 71ms/step - loss: 0.0024\n",
            "Epoch 60/100\n",
            "38/38 [==============================] - 3s 71ms/step - loss: 0.0021\n",
            "Epoch 61/100\n",
            "38/38 [==============================] - 4s 99ms/step - loss: 0.0020\n",
            "Epoch 62/100\n",
            "38/38 [==============================] - 3s 75ms/step - loss: 0.0021\n",
            "Epoch 63/100\n",
            "38/38 [==============================] - 3s 70ms/step - loss: 0.0019\n",
            "Epoch 64/100\n",
            "38/38 [==============================] - 3s 70ms/step - loss: 0.0019\n",
            "Epoch 65/100\n",
            "38/38 [==============================] - 3s 75ms/step - loss: 0.0019\n",
            "Epoch 66/100\n",
            "38/38 [==============================] - 4s 100ms/step - loss: 0.0019\n",
            "Epoch 67/100\n",
            "38/38 [==============================] - 3s 71ms/step - loss: 0.0019\n",
            "Epoch 68/100\n",
            "38/38 [==============================] - 3s 70ms/step - loss: 0.0020\n",
            "Epoch 69/100\n",
            "38/38 [==============================] - 3s 70ms/step - loss: 0.0019\n",
            "Epoch 70/100\n",
            "38/38 [==============================] - 3s 81ms/step - loss: 0.0018\n",
            "Epoch 71/100\n",
            "38/38 [==============================] - 4s 93ms/step - loss: 0.0018\n",
            "Epoch 72/100\n",
            "38/38 [==============================] - 3s 71ms/step - loss: 0.0018\n",
            "Epoch 73/100\n",
            "38/38 [==============================] - 3s 71ms/step - loss: 0.0017\n",
            "Epoch 74/100\n",
            "38/38 [==============================] - 3s 71ms/step - loss: 0.0017\n",
            "Epoch 75/100\n",
            "38/38 [==============================] - 3s 88ms/step - loss: 0.0019\n",
            "Epoch 76/100\n",
            "38/38 [==============================] - 3s 86ms/step - loss: 0.0019\n",
            "Epoch 77/100\n",
            "38/38 [==============================] - 3s 71ms/step - loss: 0.0018\n",
            "Epoch 78/100\n",
            "38/38 [==============================] - 3s 71ms/step - loss: 0.0017\n",
            "Epoch 79/100\n",
            "38/38 [==============================] - 3s 71ms/step - loss: 0.0016\n",
            "Epoch 80/100\n",
            "38/38 [==============================] - 4s 94ms/step - loss: 0.0016\n",
            "Epoch 81/100\n",
            "38/38 [==============================] - 3s 80ms/step - loss: 0.0016\n",
            "Epoch 82/100\n",
            "38/38 [==============================] - 3s 72ms/step - loss: 0.0017\n",
            "Epoch 83/100\n",
            "38/38 [==============================] - 3s 71ms/step - loss: 0.0016\n",
            "Epoch 84/100\n",
            "38/38 [==============================] - 3s 72ms/step - loss: 0.0016\n",
            "Epoch 85/100\n",
            "38/38 [==============================] - 4s 101ms/step - loss: 0.0015\n",
            "Epoch 86/100\n",
            "38/38 [==============================] - 3s 72ms/step - loss: 0.0016\n",
            "Epoch 87/100\n",
            "38/38 [==============================] - 3s 71ms/step - loss: 0.0017\n",
            "Epoch 88/100\n",
            "38/38 [==============================] - 3s 71ms/step - loss: 0.0014\n",
            "Epoch 89/100\n",
            "38/38 [==============================] - 3s 77ms/step - loss: 0.0015\n",
            "Epoch 90/100\n",
            "38/38 [==============================] - 4s 97ms/step - loss: 0.0015\n",
            "Epoch 91/100\n",
            "38/38 [==============================] - 3s 70ms/step - loss: 0.0014\n",
            "Epoch 92/100\n",
            "38/38 [==============================] - 3s 71ms/step - loss: 0.0015\n",
            "Epoch 93/100\n",
            "38/38 [==============================] - 3s 71ms/step - loss: 0.0016\n",
            "Epoch 94/100\n",
            "38/38 [==============================] - 3s 82ms/step - loss: 0.0016\n",
            "Epoch 95/100\n",
            "38/38 [==============================] - 3s 91ms/step - loss: 0.0014\n",
            "Epoch 96/100\n",
            "38/38 [==============================] - 3s 70ms/step - loss: 0.0016\n",
            "Epoch 97/100\n",
            "38/38 [==============================] - 3s 71ms/step - loss: 0.0015\n",
            "Epoch 98/100\n",
            "38/38 [==============================] - 3s 71ms/step - loss: 0.0015\n",
            "Epoch 99/100\n",
            "38/38 [==============================] - 3s 88ms/step - loss: 0.0018\n",
            "Epoch 100/100\n",
            "38/38 [==============================] - 3s 85ms/step - loss: 0.0016\n"
          ]
        },
        {
          "output_type": "execute_result",
          "data": {
            "text/plain": [
              "<keras.src.callbacks.History at 0x7c14fc4f0820>"
            ]
          },
          "metadata": {},
          "execution_count": 16
        }
      ]
    },
    {
      "cell_type": "markdown",
      "source": [
        "## Part 3 - Making the predictions and visualising the results"
      ],
      "metadata": {
        "id": "sTOEiUc-VW8B"
      }
    },
    {
      "cell_type": "markdown",
      "source": [
        "### Getting the real stock price of Jan 2017"
      ],
      "metadata": {
        "id": "0lKKFrQtVxuq"
      }
    },
    {
      "cell_type": "code",
      "source": [
        "# Load Jan 2017 stock prices\n",
        "dataset_test = pd.read_csv('/content/drive/MyDrive/Google_stock_price/Google_Stock_Price_Test.csv')"
      ],
      "metadata": {
        "id": "xrETwvrgSwwM"
      },
      "execution_count": null,
      "outputs": []
    },
    {
      "cell_type": "code",
      "source": [
        "# get shape of the dataset_test\n",
        "dataset_test.shape"
      ],
      "metadata": {
        "colab": {
          "base_uri": "https://localhost:8080/"
        },
        "id": "V9mYC-6hbdgy",
        "outputId": "83367cd1-c775-44d9-d1b3-8cdaeaff0590"
      },
      "execution_count": null,
      "outputs": [
        {
          "output_type": "execute_result",
          "data": {
            "text/plain": [
              "(20, 6)"
            ]
          },
          "metadata": {},
          "execution_count": 18
        }
      ]
    },
    {
      "cell_type": "code",
      "source": [
        "# Get an array of Jan 2017 opening prices\n",
        "real_stock_price = dataset_test.iloc[:,1:2].values"
      ],
      "metadata": {
        "id": "lXbzI6qFbBeq"
      },
      "execution_count": null,
      "outputs": []
    },
    {
      "cell_type": "markdown",
      "source": [
        "### Preprocessing testing data"
      ],
      "metadata": {
        "id": "9_x-C5s9XQo9"
      }
    },
    {
      "cell_type": "code",
      "source": [
        "# concatenating open stock prices of dataset_train and dataset_test\n",
        "dataset_total = pd.concat((dataset_train['Open'], dataset_test['Open']), axis = 0)\n",
        "# obtain array containing stock prices of last 60 days in 2012-2016 and stock prices of Jan 2017\n",
        "inputs = dataset_total[len(dataset_train)-60:].values\n",
        "# convert 1D array to  2D array\n",
        "inputs = inputs.reshape(-1,1)\n",
        "# Scale the above array\n",
        "inputs = sc.transform(inputs)\n",
        "# intilalize the X_test with empty list\n",
        "X_test = []\n",
        "# start from 60th index position and move 1 index repetitively. This 60th index position on inputs corresponds to 1st stock price of Jan 2017\n",
        "for i in range(60,len(inputs)):\n",
        "# append a list of previous 60 stock prices to X_test\n",
        "  X_test.append(inputs[i-60:i])\n",
        "# convert list to array\n",
        "X_test = np.array(X_test)"
      ],
      "metadata": {
        "id": "rd8byB6OWpyy"
      },
      "execution_count": null,
      "outputs": []
    },
    {
      "cell_type": "markdown",
      "source": [
        "### Predicting stock price of 2017"
      ],
      "metadata": {
        "id": "hkFAA_NFlueS"
      }
    },
    {
      "cell_type": "code",
      "source": [
        "# get predictions for Jan 2017\n",
        "predicted_stock_price = model.predict(X_test)\n",
        "# scale back the predicted_stock_price\n",
        "predicted_stock_price = sc.inverse_transform(predicted_stock_price)"
      ],
      "metadata": {
        "colab": {
          "base_uri": "https://localhost:8080/"
        },
        "id": "maQYCUOEfSLF",
        "outputId": "3970d2a3-ed8d-4b27-87f7-dcd12f0516af"
      },
      "execution_count": null,
      "outputs": [
        {
          "output_type": "stream",
          "name": "stdout",
          "text": [
            "1/1 [==============================] - 1s 996ms/step\n"
          ]
        }
      ]
    },
    {
      "cell_type": "markdown",
      "source": [
        "### Visualising the results"
      ],
      "metadata": {
        "id": "pYviAfhAmSiA"
      }
    },
    {
      "cell_type": "code",
      "source": [
        "plt.plot(real_stock_price, color = 'red', label = 'Real Google Stock Price')\n",
        "plt.plot(predicted_stock_price, color = 'blue', label = 'Predicted Google Stock Price')\n",
        "plt.title('Google Stock Price Prediction')\n",
        "plt.xlabel('Time')\n",
        "plt.ylabel('Google Stock Price')\n",
        "plt.legend()"
      ],
      "metadata": {
        "colab": {
          "base_uri": "https://localhost:8080/",
          "height": 489
        },
        "id": "eVUZfd4clF-y",
        "outputId": "c37c0555-b6aa-4fe6-de19-b7c7fd3b4272"
      },
      "execution_count": null,
      "outputs": [
        {
          "output_type": "execute_result",
          "data": {
            "text/plain": [
              "<matplotlib.legend.Legend at 0x7c14fca83160>"
            ]
          },
          "metadata": {},
          "execution_count": 22
        },
        {
          "output_type": "display_data",
          "data": {
            "text/plain": [
              "<Figure size 640x480 with 1 Axes>"
            ],
            "image/png": "[encoded data removed]"
          },
          "metadata": {}
        }
      ]
    }
  ]
}